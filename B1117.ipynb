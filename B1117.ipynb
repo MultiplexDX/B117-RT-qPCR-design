{
 "cells": [
  {
   "cell_type": "markdown",
   "id": "waiting-killer",
   "metadata": {
    "tags": []
   },
   "source": [
    "### B.1.1.7\n",
    "\n",
    "#### The selection of suitable loci (done on Tue 22. Dec. 2020)\n",
    "To identify suitable targets for primer/probe design, we downloaded 1,136 sequences from the GISAID repository filtered during a collection time spanning 1 - 21 December 2020. We focused on the spike gene because lineage B.1.1.7 contains a number of spike gene mutations, including two deletions (ΔH69/ΔV70 and ΔY144) that we focused on for designing a specific assay. \n",
    "\n",
    "I cut the locus encoding the spike protein and used the *MAFFT* alignment tool (with the parameter - auto) to align all the sequences against the WUHAN reference (NCBI ID: NC_045512.2). "
   ]
  },
  {
   "cell_type": "code",
   "execution_count": 9,
   "id": "extraordinary-feelings",
   "metadata": {
    "tags": []
   },
   "outputs": [],
   "source": [
    "%%bash\n",
    "\n",
    "# \"msa_1221.fasta\" is a pre-filtered nucleotide MSA file downladed from the GISAID repository 22.12.2020\n",
    "#  the WUHAN reference is always used as the first sequence in the GISAID MSA files\n",
    "grep -m 1 \">\" msa_1221.fasta | cut -d\">\" -f2 >  sars2_allSeqs_til21stDec2020_andRefWuhan.list\n",
    "# to reduce computational time, I used only sequences collected in Dec 2020\n",
    "# getting unique sequence IDs\n",
    "grep -P \"2020-12-\" msa_1221.fasta | cut -d\">\" -f2 >> sars2_allSeqs_til21stDec2020_andRefWuhan.list\n",
    "# star-end positions of the spike protein in the aligned WUHAN sequence: 22412-26369\n",
    "# I called the spike locus of all sequences listed in \"sars2_allSeqs_til21stDec2020_andRefWuhan.list\"\n",
    "count=$(wc -l sars2_allSeqs_til21stDec2020_andRefWuhan.list | cut -d\" \" -f1)\n",
    "for ((i=1; i<$(($count+1)); i++))\n",
    "do\n",
    "ID=$(sed -n ''$i'p' sars2_allSeqs_til21stDec2020_andRefWuhan.list | cut -d\" \" -f1)\n",
    "echo \">\"$ID  >>  sars2_allSeqs_til21stDec2020_andRefWuhan_Spike.fa\n",
    "grep -A 1 -m 1 $ID  msa_1221.fasta | grep -v \">\" | cut -c22412-26369 | tr -d '-' | tr -d '\\n' | tr -d ' '  >>  sars2_allSeqs_til21stDec2020_andRefWuhan_Spike.fa\n",
    "echo \"\" >>  sars2_allSeqs_til21stDec2020_andRefWuhan_Spike.fa\n",
    "done\n",
    "\n",
    "# using 4 CPUS, I run the mafft tool with default settings\n",
    "mafft --thread 4 --auto sars2_allSeqs_til21stDec2020_andRefWuhan_Spike.fa > sars2_allSeqs_til21stDec2020_andRefWuhan_Spike_mafft.fa"
   ]
  },
  {
   "cell_type": "markdown",
   "id": "defensive-darkness",
   "metadata": {},
   "source": [
    "#### Downstream analysis\n",
    "Twelve sequences (1.06 %) contained ambiguous signal in the loci of deletions and were not used in the downstream analysis. We separated sequences into two groups: 1) those with the ΔH69/ΔV70 and ΔY144 deletions and 2) those without the deletions (Table 1). Using *SeaView*, we called 95 % consensus sequences for the ΔH69/ΔV70 and ΔY144 group and the No deletions group that were used to design primer and probe sets specific to either B.1.1.7 or all other SARS-CoV-2 variants, respectively. "
   ]
  },
  {
   "cell_type": "code",
   "execution_count": null,
   "id": "laden-selling",
   "metadata": {},
   "outputs": [],
   "source": [
    "%%bash\n",
    "# quality checks of bases in the deleted loci (ΔH69/ΔV70 and ΔY144) \n",
    "# if a called base has ambiguous character, it is denotes as N\n",
    "count=$(wc -l sars2_allSeqs_til21stDec2020_andRefWuhan.list | cut -d\" \" -f1)\n",
    "for ((i=1; i<$(($count+1)); i++))\n",
    "do\n",
    "ID=$(sed -n ''$i'p' sars2_allSeqs_til21stDec2020_andRefWuhan.list | cut -d\"|\" -f2)\n",
    "Del69_70=$(awk ' BEGIN {RS=\">\"}; /'$ID'\\|/  { print \">\"$0 } ' sars2_allSeqs_til21stDec2020_andRefWuhan_Spike_mafft.fa | grep -v \">\" | tr -d '\\n' | tr -d ' ' | cut -c203-208)\n",
    "Del144=$(awk ' BEGIN {RS=\">\"}; /'$ID'\\|/  { print \">\"$0 } ' sars2_allSeqs_til21stDec2020_andRefWuhan_Spike_mafft.fa | grep -v \">\" | tr -d '\\n' | tr -d ' ' | cut -c428-430)\n",
    "# using the output file, we can also compute the correlation of two deletions (ΔH69/ΔV70 and ΔY144) and to judge about their co-occurrence \n",
    "echo -e $ID\"\\t\"$Del69_70\"\\t\"$Del144 >> sars2_1stDec20202_21stDec20202_Spike_Qchecks.tsv\n",
    "# The shorter deletion (ΔY144) always co-occurred with the longer deletion (ΔH69/ΔV70), whereas the (ΔH69/ΔV70) deletion occurs independently in 17 sequences (1.5 %). \n",
    "# Pearson's correlation coefficient of the deletions is 0.953. "
   ]
  },
  {
   "cell_type": "markdown",
   "id": "social-beverage",
   "metadata": {
    "tags": []
   },
   "source": [
    "#### Quality checks of the selected primer/probe loci (done on Thu 4. Febr. 2021)\n",
    "In a separate analysis to determine the prevalence of the ΔH69/ΔV70 and ΔY144 deletions in lineages other than B.1.1.7, we downloaded 416,778 spike protein sequences with the most recent data description file collected from the beginning of the pandemic through 29 January 2021. Using regular expressions (bash pattern matching command grep with the option -P for Perl-compatible regular expression), we searched for loci with both ΔH69/ΔV70 and ΔY144 deletions, and for loci without these deletions. In the regular expression, we kept fixed a few amino acids downstream and upstream from the deletions to omit any miscalling of the searched pattern. \n",
    "\n",
    "#### Quality checks of the selected primer/probe loci (update: 2. March 2021)\n",
    "In a separate analysis to determine the prevalence of the ΔH69/ΔV70 and ΔY144 deletions in lineages other than B.1.1.7, we downloaded 633,137 spike protein sequences with the most recent data description file collected from the beginning of the pandemic through 2 March 2021. Using regular expressions (bash pattern matching command grep with the option -P for Perl-compatible regular expression), we searched for loci with both ΔH69/ΔV70 and ΔY144 deletions and for loci without these deletions. In the regular expression, we kept fixed a few amino acids downstream and upstream from the deletions to omit any miscalling of the searched pattern. "
   ]
  },
  {
   "cell_type": "code",
   "execution_count": null,
   "id": "optimum-break",
   "metadata": {
    "tags": []
   },
   "outputs": [],
   "source": [
    "# update for the data; datasets from 1st of March 2021 (download on Tue 2nd March 2021)\n",
    "%%bash\n",
    "# \"Spike_proteins_0301.fasta\" is a pre-filtered amino-acid MSA file downladed from the GISAID repository 22.12.2020\n",
    "grep -c \">\" Spike_proteins_0301.fasta\n",
    "# detection of both deletions (no HV, no Y): d69d70 and d144; with the check for unique sequence IDs\n",
    "grep -B1 -P \"HAISGT.{66}FLGVYHK\" Spike_proteins_0301.fasta | grep \">\" | cut -d\"/\" -f2 | sort | uniq -c | awk ' { print $1\"\\t\"$2} ' | wc -l\n",
    "# full pattern (HV and Y), no deletion; with the check for unique sequence IDs\n",
    "grep -B1 -P \"HAIHVSGT.{66}FLGVYYHK\" Spike_proteins_0301.fasta | grep \">\" | cut -d\"/\" -f2 | sort | uniq -c | awk ' { print $1\"\\t\"$2} ' | wc -l\n",
    "# only d144 (only HV, no Y); with the check for unique sequence IDs\n",
    "grep -B1 -P \"HAIHVSGT.{66}FLGVYHK\" Spike_proteins_0301.fasta | grep \">\" | cut -d\"/\" -f2 | sort | uniq -c | awk ' { print $1\"\\t\"$2} ' | wc -l\n",
    "# only d69d70 (only Y, no HV); with the check for unique sequence IDs\n",
    "grep -B1 -P \"HAISGT.{66}FLGVYYHK\" Spike_proteins_0301.fasta | grep \">\" | cut -d\"/\" -f2 | sort | uniq -c | awk ' { print $1\"\\t\"$2} ' | wc -l\n",
    "# detection of both deletions (no HV, no Y): d69d70 and d144; with the time-dependent sorting\n",
    "grep -B1 -P \"HAISGT.{66}FLGVYHK\" Spike_proteins_0301.fasta | grep \">\" | grep -oP \"\\|202[01]-..-\" | sort | uniq -c\n",
    "# only d69d70 (only Y, no HV); with the time-dependent sorting\n",
    "grep -B1 -P \"HAISGT.{66}FLGVYYHK\" Spike_proteins_0301.fasta | grep \">\" | grep -oP \"\\|202[01]-..-\" | sort | uniq -c\n",
    "\n",
    "# call the whole metadata information about sars-cov-2 records with detected both deletions \n",
    "count=$(wc -l Spike_proteins_0301.fasta | cut -d\" \" -f1)\n",
    "echo $count\n",
    "# $count/16=6473\n",
    "myF(){\n",
    "for ((i=1; i<6474; i++))\n",
    "do\n",
    "N=$((12946*$1 + $i))\n",
    "ID=$(sed -n ''$N'p' B117_IDs.list)\n",
    "# metadata_2021-03-01_09-16.tsv\n",
    "awk -v ID=$ID 'BEGIN{FS=\"\\t\"}; { if ( $3 == ID && $15 == \"Human\" ) { print $1\"\\t\"$3\"\\t\"$7\"\\t\"$18\"\\t\"$19 }} ' metadata_2021-03-01_09-16.tsv >> \"B117_search_\"$i.csv \n",
    "done\n",
    "}\n",
    "\n",
    "export -f myF\n",
    "# 12 946\n",
    "parallel -j 16 myF ::: 0 1 2 3 4 5 6 7 8 9 10 11 12 13 14 15\n",
    "cat \"B117_search_\"*.csv > \"B117_detected_bothMutations_cladeID.csv \n",
    "rm \"B117_search_\"*.csv"
   ]
  },
  {
   "cell_type": "markdown",
   "id": "patient-prime",
   "metadata": {
    "tags": []
   },
   "source": [
    "#### Results (done on Thu 4. Febr. 2021)\n",
    "Our analysis of the prevalence of both ΔH69/ΔV70 and ΔY144 deletions in lineages other than B.1.1.7, revealed a total of 29,872 sequences that possess both deletions, while 368,474 sequences do not have them. Based on the metadata file, we identified SARS-CoV-2 lineages across all called sequences with both deletions. Only five sequences (0.0167 %) out of 29,872 records are not labelled as B.1.1.7, highlighted the notion that these two deletions are highly specific for the B.1.1.7 variant and make ideal targets for primer/probe design.\n",
    "\n",
    "#### Results (update: 2. March 2021)\n",
    "Analysis of the prevalence of both ΔH69/ΔV70 and ΔY144 deletions in lineages other than B.1.1.7 revealed a total of 103,529 sequences that possess both deletions. Based on the metadata file, we identified SARS-CoV-2 lineages across all called sequences with both deletions. Only 108 sequences (0.10%) out of 103,529 sequences are not labelled as B.1.1.7. In other words, 99.90% of sequences containing both deletions belong to lineage B.1.1.7, highlighting the notion that these two deletions are highly specific for the B.1.1.7 variant and make ideal targets for primer/probe design (see the table below, please).\n",
    "\n",
    "| Clade (Nextstrain) | Total sequences containing both ΔH69/ΔV70 and ΔY144 | % sequences containing both ΔH69/ΔV70 and ΔY144 |\n",
    "|:------------------:|:---------------------------------------------------:|:-----------------------------------------------:|\n",
    "|19A|6|<0.01%|\n",
    "|20A|36|0.03%|\n",
    "|20A.EU2|22|0.02%|\n",
    "|20B|21|0.02%|\n",
    "|20C|6|<0.01%|\n",
    "|20E.EU1|13|0.01%|\n",
    "|20I/501Y.V1 (**B.1.1.7**)|103,421|**99.90%**|\n",
    "|No ID|4|<0.01%|\n",
    "|Total|103,529|100%|\n",
    "\n"
   ]
  },
  {
   "cell_type": "code",
   "execution_count": null,
   "id": "complimentary-interview",
   "metadata": {},
   "outputs": [],
   "source": []
  }
 ],
 "metadata": {
  "kernelspec": {
   "display_name": "Python 3",
   "language": "python",
   "name": "python3"
  },
  "language_info": {
   "codemirror_mode": {
    "name": "ipython",
    "version": 3
   },
   "file_extension": ".py",
   "mimetype": "text/x-python",
   "name": "python",
   "nbconvert_exporter": "python",
   "pygments_lexer": "ipython3",
   "version": "3.8.8"
  }
 },
 "nbformat": 4,
 "nbformat_minor": 5
}
