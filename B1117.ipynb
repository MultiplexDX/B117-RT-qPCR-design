{
 "cells": [
  {
   "cell_type": "markdown",
   "id": "nearby-hudson",
   "metadata": {
    "tags": []
   },
   "source": [
    "### B.1.1.7\n",
    "\n",
    "#### The selection of suitable loci (done on Tue 22. Dec. 2020)\n",
    "To identify suitable targets for primer/probe design, we downloaded 1,136 sequences from the GISAID repository filtered during a collection time spanning 1 - 21 December 2020. We focused on the spike gene because lineage B.1.1.7 contains a number of spike gene mutations, including two deletions (ΔH69/ΔV70 and ΔY144) that we focused on for designing a specific assay. \n",
    "\n",
    "I cut the locus encoding the spike protein and used the *MAFFT* alignment tool (with the parameter - auto) to align all the sequences against the WUHAN reference (NCBI ID: NC_045512.2). "
   ]
  },
  {
   "cell_type": "code",
   "execution_count": 9,
   "id": "recreational-occasions",
   "metadata": {
    "tags": []
   },
   "outputs": [],
   "source": [
    "%%bash\n",
    "\n",
    "# \"msa_1221.fasta\" is a pre-filtered nucleotide MSA file downladed from the GISAID repository 22.12.2020\n",
    "#  the WUHAN reference is always used as the first sequence in the GISAID MSA files\n",
    "grep -m 1 \">\" msa_1221.fasta | cut -d\">\" -f2 >  sars2_allSeqs_til21stDec2020_andRefWuhan.list\n",
    "# to reduce computational time, I used only sequences collected in Dec 2020\n",
    "# getting unique sequence IDs\n",
    "grep -P \"2020-12-\" msa_1221.fasta | cut -d\">\" -f2 >> sars2_allSeqs_til21stDec2020_andRefWuhan.list\n",
    "# star-end positions of the spike protein in the aligned WUHAN sequence: 22412-26369\n",
    "# I called the spike locus of all sequences listed in \"sars2_allSeqs_til21stDec2020_andRefWuhan.list\"\n",
    "count=$(wc -l sars2_allSeqs_til21stDec2020_andRefWuhan.list | cut -d\" \" -f1)\n",
    "for ((i=1; i<$(($count+1)); i++))\n",
    "do\n",
    "ID=$(sed -n ''$i'p' sars2_allSeqs_til21stDec2020_andRefWuhan.list | cut -d\" \" -f1)\n",
    "echo \">\"$ID  >>  sars2_allSeqs_til21stDec2020_andRefWuhan_Spike.fa\n",
    "grep -A 1 -m 1 $ID  msa_1221.fasta | grep -v \">\" | cut -c22412-26369 | tr -d '-' | tr -d '\\n' | tr -d ' '  >>  sars2_allSeqs_til21stDec2020_andRefWuhan_Spike.fa\n",
    "echo \"\" >>  sars2_allSeqs_til21stDec2020_andRefWuhan_Spike.fa\n",
    "done\n",
    "\n",
    "# using 4 CPUS, I run the mafft tool with default settings\n",
    "mafft --thread 4 --auto sars2_allSeqs_til21stDec2020_andRefWuhan_Spike.fa > sars2_allSeqs_til21stDec2020_andRefWuhan_Spike_mafft.fa"
   ]
  },
  {
   "cell_type": "markdown",
   "id": "difficult-league",
   "metadata": {},
   "source": [
    "#### Downstream analysis\n",
    "Twelve sequences (1.06 %) contained ambiguous signal in the loci of deletions and were not used in the downstream analysis. We separated sequences into two groups: 1) those with the ΔH69/ΔV70 and ΔY144 deletions and 2) those without the deletions (Table 1). Using *SeaView*, we called 95 % consensus sequences for the ΔH69/ΔV70 and ΔY144 group and the No deletions group that were used to design primer and probe sets specific to either B.1.1.7 or all other SARS-CoV-2 variants, respectively. "
   ]
  },
  {
   "cell_type": "code",
   "execution_count": null,
   "id": "expressed-bracelet",
   "metadata": {},
   "outputs": [],
   "source": [
    "%%bash\n",
    "# quality checks of bases in the deleted loci (ΔH69/ΔV70 and ΔY144) \n",
    "# if a called base has ambiguous character, it is denotes as N\n",
    "count=$(wc -l sars2_allSeqs_til21stDec2020_andRefWuhan.list | cut -d\" \" -f1)\n",
    "for ((i=1; i<$(($count+1)); i++))\n",
    "do\n",
    "ID=$(sed -n ''$i'p' sars2_allSeqs_til21stDec2020_andRefWuhan.list | cut -d\"|\" -f2)\n",
    "Del69_70=$(awk ' BEGIN {RS=\">\"}; /'$ID'\\|/  { print \">\"$0 } ' sars2_allSeqs_til21stDec2020_andRefWuhan_Spike_mafft.fa | grep -v \">\" | tr -d '\\n' | tr -d ' ' | cut -c203-208)\n",
    "Del144=$(awk ' BEGIN {RS=\">\"}; /'$ID'\\|/  { print \">\"$0 } ' sars2_allSeqs_til21stDec2020_andRefWuhan_Spike_mafft.fa | grep -v \">\" | tr -d '\\n' | tr -d ' ' | cut -c428-430)\n",
    "# using the output file, we can also compute the correlation of two deletions (ΔH69/ΔV70 and ΔY144) and to judge about their co-occurrence \n",
    "echo -e $ID\"\\t\"$Del69_70\"\\t\"$Del144 >> sars2_1stDec20202_21stDec20202_Spike_Qchecks.tsv\n",
    "# The shorter deletion (ΔY144) always co-occurred with the longer deletion (ΔH69/ΔV70), whereas the (ΔH69/ΔV70) deletion occurs independently in 17 sequences (1.5 %). \n",
    "# Pearson's correlation coefficient of the deletions is 0.953. "
   ]
  },
  {
   "cell_type": "markdown",
   "id": "employed-speech",
   "metadata": {},
   "source": [
    "#### Quality checks of the selected primer/probe loci (done on Thu 4. Febr. 2021)\n",
    "In a separate analysis to determine the prevalence of the ΔH69/ΔV70 and ΔY144 deletions in lineages other than B.1.1.7, we downloaded 416,778 spike protein sequences with the most recent data description file collected from the beginning of the pandemic through 29 January 2021. Using regular expressions (bash pattern matching command grep with the option -P for Perl-compatible regular expression), we searched for loci with both ΔH69/ΔV70 and ΔY144 deletions, and for loci without these deletions. In the regular expression, we kept fixed a few amino acids downstream and upstream from the deletions to omit any miscalling of the searched pattern. "
   ]
  },
  {
   "cell_type": "code",
   "execution_count": null,
   "id": "authentic-elevation",
   "metadata": {},
   "outputs": [],
   "source": [
    "%%bash\n",
    "# \"spikeprot0129.fasta\" is a pre-filtered amino-acid MSA file downladed from the GISAID repository 22.12.2020\n",
    "grep -c \">\" spikeprot0129.fasta\n",
    "# detection of both deletions (no HV, no Y): d69d70 and d144; with the check for unique sequence IDs\n",
    "grep -B1 -P \"HAISGT.{66}FLGVYHK\" spikeprot0129.fasta | grep \">\" | cut -d\"/\" -f2 | sort | uniq -c | awk ' { print $1\"\\t\"$2} ' | wc -l\n",
    "# full pattern (HV and Y), no deletion; with the check for unique sequence IDs\n",
    "grep -B1 -P \"HAIHVSGT.{66}FLGVYYHK\" spikeprot0129.fasta | grep \">\" | cut -d\"/\" -f2 | sort | uniq -c | awk ' { print $1\"\\t\"$2} ' | wc -l\n",
    "# only d144 (only HV, no Y); with the check for unique sequence IDs\n",
    "grep -B1 -P \"HAIHVSGT.{66}FLGVYHK\" spikeprot0129.fasta | grep \">\" | cut -d\"/\" -f2 | sort | uniq -c | awk ' { print $1\"\\t\"$2} ' | wc -l\n",
    "# only d69d70 (only Y, no HV); with the check for unique sequence IDs\n",
    "grep -B1 -P \"HAISGT.{66}FLGVYYHK\" spikeprot0129.fasta | grep \">\" | cut -d\"/\" -f2 | sort | uniq -c | awk ' { print $1\"\\t\"$2} ' | wc -l\n",
    "# detection of both deletions (no HV, no Y): d69d70 and d144; with the time-dependent sorting\n",
    "grep -B1 -P \"HAISGT.{66}FLGVYHK\" spikeprot0129.fasta | grep \">\" | grep -oP \"\\|202[01]-..-\" | sort | uniq -c\n",
    "# only d69d70 (only Y, no HV); with the time-dependent sorting\n",
    "grep -B1 -P \"HAISGT.{66}FLGVYYHK\" spikeprot0129.fasta | grep \">\" | grep -oP \"\\|202[01]-..-\" | sort | uniq -c"
   ]
  },
  {
   "cell_type": "markdown",
   "id": "wicked-mediterranean",
   "metadata": {},
   "source": [
    "#### Results\n",
    "Our analysis of the prevalence of both ΔH69/ΔV70 and ΔY144 deletions in lineages other than B.1.1.7, revealed a total of 29,872 sequences that possess both deletions, while 368,474 sequences do not have them. Based on the metadata file, we identified SARS-CoV-2 lineages across all called sequences with both deletions. Only five sequences (0.0167 %) out of 29,872 records are not labelled as B.1.1.7, highlighted the notion that these two deletions are highly specific for the B.1.1.7 variant and make ideal targets for primer/probe design."
   ]
  }
 ],
 "metadata": {
  "kernelspec": {
   "display_name": "Python 3",
   "language": "python",
   "name": "python3"
  },
  "language_info": {
   "codemirror_mode": {
    "name": "ipython",
    "version": 3
   },
   "file_extension": ".py",
   "mimetype": "text/x-python",
   "name": "python",
   "nbconvert_exporter": "python",
   "pygments_lexer": "ipython3",
   "version": "3.8.8"
  }
 },
 "nbformat": 4,
 "nbformat_minor": 5
}
